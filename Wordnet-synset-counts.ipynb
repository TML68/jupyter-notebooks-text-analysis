{
 "cells": [
  {
   "cell_type": "code",
   "execution_count": 33,
   "metadata": {},
   "outputs": [
    {
     "data": {
      "text/plain": [
       "{'nouns': 6, 'verbs': 9}"
      ]
     },
     "execution_count": 33,
     "metadata": {},
     "output_type": "execute_result"
    }
   ],
   "source": [
    "from nltk.corpus import wordnet\n",
    "\n",
    "def get_noun_verb_count(word):\n",
    "    syns = wordnet.synsets(word)\n",
    "    #set the counts to zero\n",
    "    n_count = 0\n",
    "    v_count = 0\n",
    "    #loop synsets\n",
    "    for s in syns:\n",
    "        # check for noun\n",
    "        if s.pos() == 'n':\n",
    "            # loop all lemmas and count frequency\n",
    "            for l in s.lemmas():\n",
    "                n_count += l.count()\n",
    "        # check for verb\n",
    "        if s.pos() == 'v':    \n",
    "            for l in s.lemmas():\n",
    "                # loop all lemmas and count frequency\n",
    "                v_count += l.count()\n",
    "    return {'nouns':n_count, 'verbs':v_count}\n",
    "\n",
    "get_noun_verb_count('dive')"
   ]
  },
  {
   "cell_type": "code",
   "execution_count": 34,
   "metadata": {},
   "outputs": [],
   "source": [
    "# I can also store the output as a variable\n",
    "stats = get_noun_verb_count('drink')"
   ]
  },
  {
   "cell_type": "code",
   "execution_count": 35,
   "metadata": {},
   "outputs": [
    {
     "data": {
      "text/plain": [
       "36"
      ]
     },
     "execution_count": 35,
     "metadata": {},
     "output_type": "execute_result"
    }
   ],
   "source": [
    "# and refernce the noun or verb count directly\n",
    "stats['nouns']"
   ]
  },
  {
   "cell_type": "code",
   "execution_count": 36,
   "metadata": {},
   "outputs": [
    {
     "data": {
      "text/plain": [
       "44"
      ]
     },
     "execution_count": 36,
     "metadata": {},
     "output_type": "execute_result"
    }
   ],
   "source": [
    "stats['verbs']"
   ]
  },
  {
   "cell_type": "code",
   "execution_count": 42,
   "metadata": {},
   "outputs": [
    {
     "data": {
      "text/plain": [
       "0.4567901234567901"
      ]
     },
     "execution_count": 42,
     "metadata": {},
     "output_type": "execute_result"
    }
   ],
   "source": [
    "# or calculate a normalized noun ratio ... normalized here means I add one to both the noun and verb counts so there's never a zero\n",
    "(stats['nouns']+1)/(stats['nouns']+stats['verbs']+1)"
   ]
  },
  {
   "cell_type": "code",
   "execution_count": null,
   "metadata": {},
   "outputs": [],
   "source": []
  }
 ],
 "metadata": {
  "kernelspec": {
   "display_name": "Python 3",
   "language": "python",
   "name": "python3"
  },
  "language_info": {
   "codemirror_mode": {
    "name": "ipython",
    "version": 3
   },
   "file_extension": ".py",
   "mimetype": "text/x-python",
   "name": "python",
   "nbconvert_exporter": "python",
   "pygments_lexer": "ipython3",
   "version": "3.6.6"
  }
 },
 "nbformat": 4,
 "nbformat_minor": 2
}
